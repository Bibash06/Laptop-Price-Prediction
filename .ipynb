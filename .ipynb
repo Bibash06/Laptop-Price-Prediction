{
 "cells": [
  {
   "cell_type": "markdown",
   "metadata": {},
   "source": [
    "- [Assignment](#assignment)\n",
    "- [Data Exploration and Processing](#data-exploration-and-processing)\n",
    "- [Multicollinearity Check](#multicollinearity-check)\n",
    "- [Train/Val/Test Split](#trainvaltest-split)\n",
    "- [Classical Machine Learning](#classical-machine-learning)\n",
    "  - [Linear Regression]()\n",
    "  - [MLP Regressor]()\n",
    "  - [Decision Tree Regressor]()\n",
    "  - [Random Forest Regressor]()\n",
    "  - [Gradient Boosting Regressor]()\n",
    "  - [Extra Trees Regressor]()\n",
    "  - [Voting Regressor]()\n",
    "- [Deep Learning](#deep-learning)\n",
    "- [Feature Selection](#feature-selection)"
   ]
  },
  {
   "cell_type": "code",
   "execution_count": null,
   "metadata": {},
   "outputs": [],
   "source": []
  }
 ],
 "metadata": {
  "kernelspec": {
   "display_name": "Python 3",
   "language": "python",
   "name": "python3"
  },
  "language_info": {
   "name": "python",
   "version": "3.11.4"
  }
 },
 "nbformat": 4,
 "nbformat_minor": 2
}
